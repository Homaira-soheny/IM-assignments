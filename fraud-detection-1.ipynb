{
 "cells": [
  {
   "cell_type": "code",
   "execution_count": 1,
   "id": "hourly-italian",
   "metadata": {
    "_cell_guid": "b1076dfc-b9ad-4769-8c92-a6c4dae69d19",
    "_uuid": "8f2839f25d086af736a60e9eeb907d3b93b6e0e5",
    "execution": {
     "iopub.execute_input": "2021-06-08T06:40:06.436965Z",
     "iopub.status.busy": "2021-06-08T06:40:06.435854Z",
     "iopub.status.idle": "2021-06-08T06:40:06.443600Z",
     "shell.execute_reply": "2021-06-08T06:40:06.444536Z",
     "shell.execute_reply.started": "2021-06-08T05:15:50.313811Z"
    },
    "papermill": {
     "duration": 0.053213,
     "end_time": "2021-06-08T06:40:06.444893",
     "exception": false,
     "start_time": "2021-06-08T06:40:06.391680",
     "status": "completed"
    },
    "tags": []
   },
   "outputs": [
    {
     "name": "stdout",
     "output_type": "stream",
     "text": [
      "/kaggle/input/ieee-fraud-detection/sample_submission.csv\n",
      "/kaggle/input/ieee-fraud-detection/test_identity.csv\n",
      "/kaggle/input/ieee-fraud-detection/train_identity.csv\n",
      "/kaggle/input/ieee-fraud-detection/test_transaction.csv\n",
      "/kaggle/input/ieee-fraud-detection/train_transaction.csv\n"
     ]
    }
   ],
   "source": [
    "# This Python 3 environment comes with many helpful analytics libraries installed\n",
    "# It is defined by the kaggle/python Docker image: https://github.com/kaggle/docker-python\n",
    "# For example, here's several helpful packages to load\n",
    "\n",
    "import numpy as np # linear algebra\n",
    "import pandas as pd # data processing, CSV file I/O (e.g. pd.read_csv)\n",
    "\n",
    "# Input data files are available in the read-only \"../input/\" directory\n",
    "# For example, running this (by clicking run or pressing Shift+Enter) will list all files under the input directory\n",
    "\n",
    "import os\n",
    "for dirname, _, filenames in os.walk('/kaggle/input'):\n",
    "    for filename in filenames:\n",
    "        print(os.path.join(dirname, filename))\n",
    "\n",
    "# You can write up to 20GB to the current directory (/kaggle/working/) that gets preserved as output when you create a version using \"Save & Run All\" \n",
    "# You can also write temporary files to /kaggle/temp/, but they won't be saved outside of the current session"
   ]
  },
  {
   "cell_type": "code",
   "execution_count": 2,
   "id": "decreased-terrorist",
   "metadata": {
    "execution": {
     "iopub.execute_input": "2021-06-08T06:40:06.511880Z",
     "iopub.status.busy": "2021-06-08T06:40:06.511184Z",
     "iopub.status.idle": "2021-06-08T06:40:07.670018Z",
     "shell.execute_reply": "2021-06-08T06:40:07.669422Z",
     "shell.execute_reply.started": "2021-06-08T05:15:50.328442Z"
    },
    "papermill": {
     "duration": 1.194791,
     "end_time": "2021-06-08T06:40:07.670225",
     "exception": false,
     "start_time": "2021-06-08T06:40:06.475434",
     "status": "completed"
    },
    "tags": []
   },
   "outputs": [],
   "source": [
    "import pandas as pd\n",
    "import numpy as np\n",
    "import matplotlib.pyplot as plt\n",
    "import seaborn as sns\n",
    "import os,gc\n",
    "from sklearn.linear_model import LogisticRegression\n",
    "from sklearn.metrics import roc_auc_score,roc_curve,auc,confusion_matrix\n",
    "from sklearn.model_selection import RandomizedSearchCV\n",
    "import xgboost as xgb\n",
    "import time\n",
    "plt.style.use('seaborn-whitegrid')\n",
    "import warnings\n",
    "warnings.simplefilter(\"ignore\")\n",
    "colors = [x['color'] for x in plt.rcParams['axes.prop_cycle']]"
   ]
  },
  {
   "cell_type": "code",
   "execution_count": 3,
   "id": "inclusive-atlanta",
   "metadata": {
    "execution": {
     "iopub.execute_input": "2021-06-08T06:40:07.747073Z",
     "iopub.status.busy": "2021-06-08T06:40:07.745380Z",
     "iopub.status.idle": "2021-06-08T06:40:40.993078Z",
     "shell.execute_reply": "2021-06-08T06:40:40.994101Z",
     "shell.execute_reply.started": "2021-06-08T05:16:41.904329Z"
    },
    "papermill": {
     "duration": 33.293823,
     "end_time": "2021-06-08T06:40:40.994395",
     "exception": false,
     "start_time": "2021-06-08T06:40:07.700572",
     "status": "completed"
    },
    "tags": []
   },
   "outputs": [],
   "source": [
    "train_trn = pd.read_csv(\"../input/ieee-fraud-detection/train_transaction.csv\")"
   ]
  },
  {
   "cell_type": "code",
   "execution_count": 4,
   "id": "interested-sydney",
   "metadata": {
    "execution": {
     "iopub.execute_input": "2021-06-08T06:40:41.112949Z",
     "iopub.status.busy": "2021-06-08T06:40:41.112230Z",
     "iopub.status.idle": "2021-06-08T06:40:41.972799Z",
     "shell.execute_reply": "2021-06-08T06:40:41.971589Z",
     "shell.execute_reply.started": "2021-06-08T05:16:17.239991Z"
    },
    "papermill": {
     "duration": 0.922212,
     "end_time": "2021-06-08T06:40:41.972960",
     "exception": false,
     "start_time": "2021-06-08T06:40:41.050748",
     "status": "completed"
    },
    "tags": []
   },
   "outputs": [],
   "source": [
    "train_id = pd.read_csv(\"../input/ieee-fraud-detection/train_identity.csv\")"
   ]
  },
  {
   "cell_type": "code",
   "execution_count": 5,
   "id": "rocky-metropolitan",
   "metadata": {
    "execution": {
     "iopub.execute_input": "2021-06-08T06:40:42.043953Z",
     "iopub.status.busy": "2021-06-08T06:40:42.040677Z",
     "iopub.status.idle": "2021-06-08T06:40:49.440836Z",
     "shell.execute_reply": "2021-06-08T06:40:49.439663Z",
     "shell.execute_reply.started": "2021-06-08T05:17:11.119343Z"
    },
    "papermill": {
     "duration": 7.438076,
     "end_time": "2021-06-08T06:40:49.441016",
     "exception": false,
     "start_time": "2021-06-08T06:40:42.002940",
     "status": "completed"
    },
    "tags": []
   },
   "outputs": [],
   "source": [
    "df_train = train_trn.merge(train_id,on=['TransactionID'],how='left')\n",
    "#print(f'Shape of identity train data: {train_id.shape}')"
   ]
  },
  {
   "cell_type": "code",
   "execution_count": 6,
   "id": "fuzzy-swimming",
   "metadata": {
    "execution": {
     "iopub.execute_input": "2021-06-08T06:40:49.534609Z",
     "iopub.status.busy": "2021-06-08T06:40:49.532451Z",
     "iopub.status.idle": "2021-06-08T06:40:49.535591Z",
     "shell.execute_reply": "2021-06-08T06:40:49.536215Z",
     "shell.execute_reply.started": "2021-06-08T05:17:22.462289Z"
    },
    "papermill": {
     "duration": 0.065054,
     "end_time": "2021-06-08T06:40:49.536433",
     "exception": false,
     "start_time": "2021-06-08T06:40:49.471379",
     "status": "completed"
    },
    "tags": []
   },
   "outputs": [],
   "source": [
    "del train_trn\n",
    "del train_id"
   ]
  },
  {
   "cell_type": "code",
   "execution_count": 7,
   "id": "preceding-flooring",
   "metadata": {
    "execution": {
     "iopub.execute_input": "2021-06-08T06:40:49.604502Z",
     "iopub.status.busy": "2021-06-08T06:40:49.603714Z",
     "iopub.status.idle": "2021-06-08T06:41:18.780112Z",
     "shell.execute_reply": "2021-06-08T06:41:18.779580Z",
     "shell.execute_reply.started": "2021-06-08T05:17:53.794151Z"
    },
    "papermill": {
     "duration": 29.213763,
     "end_time": "2021-06-08T06:41:18.780262",
     "exception": false,
     "start_time": "2021-06-08T06:40:49.566499",
     "status": "completed"
    },
    "tags": []
   },
   "outputs": [
    {
     "name": "stdout",
     "output_type": "stream",
     "text": [
      "Shape of transaction train data: (506691, 393)\n",
      "Shape of identity train data: (141907, 41)\n"
     ]
    }
   ],
   "source": [
    "df_test_transaction = pd.read_csv('../input/ieee-fraud-detection/test_transaction.csv')\n",
    "df_test_identity = pd.read_csv('../input/ieee-fraud-detection/test_identity.csv')\n",
    "print(f'Shape of transaction train data: {df_test_transaction.shape}')\n",
    "print(f'Shape of identity train data: {df_test_identity.shape}')"
   ]
  },
  {
   "cell_type": "code",
   "execution_count": 8,
   "id": "acoustic-private",
   "metadata": {
    "execution": {
     "iopub.execute_input": "2021-06-08T06:41:18.849380Z",
     "iopub.status.busy": "2021-06-08T06:41:18.847461Z",
     "iopub.status.idle": "2021-06-08T06:41:25.350653Z",
     "shell.execute_reply": "2021-06-08T06:41:25.349698Z",
     "shell.execute_reply.started": "2021-06-08T05:18:22.675383Z"
    },
    "papermill": {
     "duration": 6.540298,
     "end_time": "2021-06-08T06:41:25.350879",
     "exception": false,
     "start_time": "2021-06-08T06:41:18.810581",
     "status": "completed"
    },
    "tags": []
   },
   "outputs": [],
   "source": [
    "# #combining frames\n",
    "# # if some columns (id) are wrongly labeled in test_identity. We will correct it\n",
    "id_cols = [col for col in df_test_identity.columns if col[0]+col[1] == 'id']\n",
    "rename_cols = {i:'id_'+str(i[-2]+i[-1]) for i in id_cols}\n",
    "df_test_identity = df_test_identity.rename(columns=rename_cols)\n",
    "df_test = df_test_transaction.merge(df_test_identity,on=['TransactionID'],how='left')\n",
    "del df_test_transaction\n",
    "del df_test_identity\n"
   ]
  },
  {
   "cell_type": "code",
   "execution_count": 9,
   "id": "residential-entertainment",
   "metadata": {
    "execution": {
     "iopub.execute_input": "2021-06-08T06:41:25.439916Z",
     "iopub.status.busy": "2021-06-08T06:41:25.438768Z",
     "iopub.status.idle": "2021-06-08T06:41:28.334229Z",
     "shell.execute_reply": "2021-06-08T06:41:28.333627Z",
     "shell.execute_reply.started": "2021-06-08T05:19:19.316441Z"
    },
    "papermill": {
     "duration": 2.930866,
     "end_time": "2021-06-08T06:41:28.334402",
     "exception": false,
     "start_time": "2021-06-08T06:41:25.403536",
     "status": "completed"
    },
    "tags": []
   },
   "outputs": [],
   "source": [
    "#columns with different types\n",
    "\n",
    "obj_col = df_train.select_dtypes(include='O').columns\n",
    "float_col = df_train.select_dtypes(include='float64').columns\n",
    "int_col = df_train.select_dtypes(include='int64').columns"
   ]
  },
  {
   "cell_type": "code",
   "execution_count": 10,
   "id": "miniature-improvement",
   "metadata": {
    "execution": {
     "iopub.execute_input": "2021-06-08T06:41:29.106471Z",
     "iopub.status.busy": "2021-06-08T06:41:29.105010Z",
     "iopub.status.idle": "2021-06-08T06:43:54.545538Z",
     "shell.execute_reply": "2021-06-08T06:43:54.546078Z",
     "shell.execute_reply.started": "2021-06-08T05:19:37.156762Z"
    },
    "papermill": {
     "duration": 146.180889,
     "end_time": "2021-06-08T06:43:54.546318",
     "exception": false,
     "start_time": "2021-06-08T06:41:28.365429",
     "status": "completed"
    },
    "tags": []
   },
   "outputs": [],
   "source": [
    "df_train[float_col] = df_train[float_col].astype('float32')"
   ]
  },
  {
   "cell_type": "code",
   "execution_count": 11,
   "id": "documentary-reply",
   "metadata": {
    "execution": {
     "iopub.execute_input": "2021-06-08T06:43:54.613456Z",
     "iopub.status.busy": "2021-06-08T06:43:54.612593Z",
     "iopub.status.idle": "2021-06-08T06:43:54.616603Z",
     "shell.execute_reply": "2021-06-08T06:43:54.617186Z",
     "shell.execute_reply.started": "2021-06-07T17:31:21.31006Z"
    },
    "papermill": {
     "duration": 0.039254,
     "end_time": "2021-06-08T06:43:54.617335",
     "exception": false,
     "start_time": "2021-06-08T06:43:54.578081",
     "status": "completed"
    },
    "tags": []
   },
   "outputs": [
    {
     "name": "stdout",
     "output_type": "stream",
     "text": [
      "(590540, 434)\n",
      "(506691, 433)\n"
     ]
    }
   ],
   "source": [
    "#df_train = pd.read_csv('data/train_combined.csv')\n",
    "#df_test = pd.read_csv('data/test_combined.csv')\n",
    "print(df_train.shape)\n",
    "print(df_test.shape)"
   ]
  },
  {
   "cell_type": "markdown",
   "id": "early-notice",
   "metadata": {
    "papermill": {
     "duration": 0.030071,
     "end_time": "2021-06-08T06:43:54.677476",
     "exception": false,
     "start_time": "2021-06-08T06:43:54.647405",
     "status": "completed"
    },
    "tags": []
   },
   "source": [
    "MISSING VALUES"
   ]
  },
  {
   "cell_type": "code",
   "execution_count": 12,
   "id": "royal-camping",
   "metadata": {
    "execution": {
     "iopub.execute_input": "2021-06-08T06:43:54.747239Z",
     "iopub.status.busy": "2021-06-08T06:43:54.746142Z",
     "iopub.status.idle": "2021-06-08T06:43:54.750679Z",
     "shell.execute_reply": "2021-06-08T06:43:54.751341Z",
     "shell.execute_reply.started": "2021-06-08T06:18:49.608811Z"
    },
    "papermill": {
     "duration": 0.043273,
     "end_time": "2021-06-08T06:43:54.751494",
     "exception": false,
     "start_time": "2021-06-08T06:43:54.708221",
     "status": "completed"
    },
    "tags": []
   },
   "outputs": [
    {
     "ename": "SyntaxError",
     "evalue": "invalid syntax (<ipython-input-12-2ade9a2d0c6c>, line 2)",
     "output_type": "error",
     "traceback": [
      "\u001b[0;36m  File \u001b[0;32m\"<ipython-input-12-2ade9a2d0c6c>\"\u001b[0;36m, line \u001b[0;32m2\u001b[0m\n\u001b[0;31m    defdf,n=45,thresh=80):\u001b[0m\n\u001b[0m                          ^\u001b[0m\n\u001b[0;31mSyntaxError\u001b[0m\u001b[0;31m:\u001b[0m invalid syntax\n"
     ]
    }
   ],
   "source": [
    " top_missing_cols(\n",
    "defdf,n=45,thresh=80):\n",
    "    \"\"\"\n",
    "    returns missing columns in dataframe with missing values percent > thresh\n",
    "    if n=None. It will gave whole dataframe with missing values percent > thresh\n",
    "    \"\"\"\n",
    "    \n",
    "    dff = (df.isnull().sum()/df.shape[0])*100\n",
    "    dff = dff.reset_index()\n",
    "    dff.columns = ['col','missing_percent']\n",
    "    dff = dff.sort_values(by=['missing_percent'],ascending=False).reset_index(drop=True)\n",
    "    print(f'There are {df.isnull().any().sum()} columns in this dataset with missing values.')\n",
    "    print(f'There are {dff[dff[\"missing_percent\"] > thresh].shape[0]} columns with missing percent values than {thresh}%')\n",
    "    if n:\n",
    "        return dff.head(n)\n",
    "    else:\n",
    "        return dff"
   ]
  },
  {
   "cell_type": "code",
   "execution_count": 13,
   "id": "thrown-performance",
   "metadata": {
    "execution": {
     "iopub.execute_input": "2021-06-08T06:43:54.818426Z",
     "iopub.status.busy": "2021-06-08T06:43:54.817672Z",
     "iopub.status.idle": "2021-06-08T06:43:54.925840Z",
     "shell.execute_reply": "2021-06-08T06:43:54.925325Z",
     "shell.execute_reply.started": "2021-06-06T12:59:44.60953Z"
    },
    "papermill": {
     "duration": 0.142801,
     "end_time": "2021-06-08T06:43:54.925981",
     "exception": false,
     "start_time": "2021-06-08T06:43:54.783180",
     "status": "completed"
    },
    "tags": []
   },
   "outputs": [
    {
     "ename": "NameError",
     "evalue": "name 'top_missing_cols' is not defined",
     "output_type": "error",
     "traceback": [
      "\u001b[0;31m---------------------------------------------------------------------------\u001b[0m",
      "\u001b[0;31mNameError\u001b[0m                                 Traceback (most recent call last)",
      "\u001b[0;32m<ipython-input-13-3b9d5cfa826c>\u001b[0m in \u001b[0;36m<module>\u001b[0;34m\u001b[0m\n\u001b[0;32m----> 1\u001b[0;31m \u001b[0mtop_missing_cols\u001b[0m\u001b[0;34m(\u001b[0m\u001b[0mdf_train\u001b[0m\u001b[0;34m,\u001b[0m \u001b[0mthresh\u001b[0m\u001b[0;34m=\u001b[0m\u001b[0;36m80\u001b[0m\u001b[0;34m)\u001b[0m\u001b[0;34m\u001b[0m\u001b[0;34m\u001b[0m\u001b[0m\n\u001b[0m",
      "\u001b[0;31mNameError\u001b[0m: name 'top_missing_cols' is not defined"
     ]
    }
   ],
   "source": [
    "top_missing_cols(df_train, thresh=80)"
   ]
  },
  {
   "cell_type": "markdown",
   "id": "sixth-regression",
   "metadata": {
    "papermill": {
     "duration": 0.030619,
     "end_time": "2021-06-08T06:43:54.987076",
     "exception": false,
     "start_time": "2021-06-08T06:43:54.956457",
     "status": "completed"
    },
    "tags": []
   },
   "source": [
    "There are 385 columns in this dataset with missing values.\n",
    "There are 41 columns with missing percent values than 90%"
   ]
  },
  {
   "cell_type": "code",
   "execution_count": 14,
   "id": "ongoing-portable",
   "metadata": {
    "execution": {
     "iopub.execute_input": "2021-06-08T06:43:55.055215Z",
     "iopub.status.busy": "2021-06-08T06:43:55.054248Z",
     "iopub.status.idle": "2021-06-08T06:43:57.633421Z",
     "shell.execute_reply": "2021-06-08T06:43:57.632420Z",
     "shell.execute_reply.started": "2021-06-08T05:24:10.550080Z"
    },
    "papermill": {
     "duration": 2.615635,
     "end_time": "2021-06-08T06:43:57.633584",
     "exception": false,
     "start_time": "2021-06-08T06:43:55.017949",
     "status": "completed"
    },
    "tags": []
   },
   "outputs": [],
   "source": [
    "#Remove variables with missing values more than 30 percent\n",
    "\n",
    "A = (np.sum(pd.isnull(df_train)).sort_values(ascending=False)/len(df_train))*100\n",
    "Removed_col = A[A>0.8].index\n",
    "df_train.drop(columns=Removed_col, inplace=True)"
   ]
  },
  {
   "cell_type": "code",
   "execution_count": 15,
   "id": "equal-experiment",
   "metadata": {
    "execution": {
     "iopub.execute_input": "2021-06-08T06:43:57.701453Z",
     "iopub.status.busy": "2021-06-08T06:43:57.700498Z",
     "iopub.status.idle": "2021-06-08T06:44:01.261497Z",
     "shell.execute_reply": "2021-06-08T06:44:01.260937Z",
     "shell.execute_reply.started": "2021-06-08T06:23:07.518975Z"
    },
    "papermill": {
     "duration": 3.597221,
     "end_time": "2021-06-08T06:44:01.261715",
     "exception": false,
     "start_time": "2021-06-08T06:43:57.664494",
     "status": "completed"
    },
    "tags": []
   },
   "outputs": [],
   "source": [
    "A = (np.sum(pd.isnull(df_test)).sort_values(ascending=False)/len(df_train))*100\n",
    "Removed_col = A[A>0.8].index\n",
    "df_test.drop(columns=Removed_col, inplace=True)"
   ]
  },
  {
   "cell_type": "code",
   "execution_count": 16,
   "id": "tested-consultancy",
   "metadata": {
    "execution": {
     "iopub.execute_input": "2021-06-08T06:44:01.329705Z",
     "iopub.status.busy": "2021-06-08T06:44:01.328618Z",
     "iopub.status.idle": "2021-06-08T06:44:01.332270Z",
     "shell.execute_reply": "2021-06-08T06:44:01.331670Z",
     "shell.execute_reply.started": "2021-06-07T19:45:00.926844Z"
    },
    "papermill": {
     "duration": 0.03896,
     "end_time": "2021-06-08T06:44:01.332437",
     "exception": false,
     "start_time": "2021-06-08T06:44:01.293477",
     "status": "completed"
    },
    "tags": []
   },
   "outputs": [],
   "source": [
    "#fig, axes = plt.subplots(1,2,figsize=(15,5))\n",
    "\n",
    "#sns.scatterplot(y=df_train['TransactionAmt'],x=df_train['TransactionDT'],hue=df_train['isFraud'],ax=axes[0])\n",
    "#axes[0].title.set_text('Transcation Amount - Train')\n",
    "\n",
    "#sns.scatterplot(y=df_test['TransactionAmt'],x=df_test['TransactionDT'],ax=axes[1])\n",
    "#axes[1].title.set_text('Transcation Amount - Test')\n",
    "\n",
    "#plt.show()"
   ]
  },
  {
   "cell_type": "code",
   "execution_count": 17,
   "id": "important-missile",
   "metadata": {
    "execution": {
     "iopub.execute_input": "2021-06-08T06:44:01.401406Z",
     "iopub.status.busy": "2021-06-08T06:44:01.400283Z",
     "iopub.status.idle": "2021-06-08T06:44:01.403648Z",
     "shell.execute_reply": "2021-06-08T06:44:01.403122Z",
     "shell.execute_reply.started": "2021-06-07T19:52:42.950391Z"
    },
    "papermill": {
     "duration": 0.038822,
     "end_time": "2021-06-08T06:44:01.403807",
     "exception": false,
     "start_time": "2021-06-08T06:44:01.364985",
     "status": "completed"
    },
    "tags": []
   },
   "outputs": [],
   "source": [
    "#h = df_train[df_train[\"TransactionAmt\"]>30000].index\n",
    "#df_train[df_train[\"TransactionAmt\"]>30000]"
   ]
  },
  {
   "cell_type": "code",
   "execution_count": 18,
   "id": "unexpected-handbook",
   "metadata": {
    "execution": {
     "iopub.execute_input": "2021-06-08T06:44:01.471206Z",
     "iopub.status.busy": "2021-06-08T06:44:01.470184Z",
     "iopub.status.idle": "2021-06-08T06:44:01.473181Z",
     "shell.execute_reply": "2021-06-08T06:44:01.473678Z"
    },
    "papermill": {
     "duration": 0.038548,
     "end_time": "2021-06-08T06:44:01.473849",
     "exception": false,
     "start_time": "2021-06-08T06:44:01.435301",
     "status": "completed"
    },
    "tags": []
   },
   "outputs": [],
   "source": [
    "#h = df_train[df_train[\"TransactionAmt\"]>30000].index\n",
    "#h = df_train.set_index(\"TransactionID\")\n",
    "#df_train = df_train.drop([3261336,3261339],axis = 0)#, inplace = True)"
   ]
  },
  {
   "cell_type": "code",
   "execution_count": 19,
   "id": "affecting-finnish",
   "metadata": {
    "execution": {
     "iopub.execute_input": "2021-06-08T06:44:01.546031Z",
     "iopub.status.busy": "2021-06-08T06:44:01.545060Z",
     "iopub.status.idle": "2021-06-08T06:44:01.706487Z",
     "shell.execute_reply": "2021-06-08T06:44:01.705767Z",
     "shell.execute_reply.started": "2021-06-08T05:26:09.829309Z"
    },
    "papermill": {
     "duration": 0.200896,
     "end_time": "2021-06-08T06:44:01.706656",
     "exception": false,
     "start_time": "2021-06-08T06:44:01.505760",
     "status": "completed"
    },
    "tags": []
   },
   "outputs": [],
   "source": [
    " df_train = df_train[df_train['TransactionAmt'] < 30000]\n"
   ]
  },
  {
   "cell_type": "code",
   "execution_count": 20,
   "id": "educational-anchor",
   "metadata": {
    "execution": {
     "iopub.execute_input": "2021-06-08T06:44:01.778401Z",
     "iopub.status.busy": "2021-06-08T06:44:01.777009Z",
     "iopub.status.idle": "2021-06-08T06:44:02.200958Z",
     "shell.execute_reply": "2021-06-08T06:44:02.201488Z",
     "shell.execute_reply.started": "2021-06-08T05:27:06.182444Z"
    },
    "papermill": {
     "duration": 0.462953,
     "end_time": "2021-06-08T06:44:02.201709",
     "exception": false,
     "start_time": "2021-06-08T06:44:01.738756",
     "status": "completed"
    },
    "tags": []
   },
   "outputs": [],
   "source": [
    "train_dummy = pd.get_dummies(df_train, drop_first = True)"
   ]
  },
  {
   "cell_type": "code",
   "execution_count": 21,
   "id": "maritime-chase",
   "metadata": {
    "execution": {
     "iopub.execute_input": "2021-06-08T06:44:02.273139Z",
     "iopub.status.busy": "2021-06-08T06:44:02.271813Z",
     "iopub.status.idle": "2021-06-08T06:44:02.582712Z",
     "shell.execute_reply": "2021-06-08T06:44:02.582170Z",
     "shell.execute_reply.started": "2021-06-08T05:30:23.853726Z"
    },
    "papermill": {
     "duration": 0.348944,
     "end_time": "2021-06-08T06:44:02.582873",
     "exception": false,
     "start_time": "2021-06-08T06:44:02.233929",
     "status": "completed"
    },
    "tags": []
   },
   "outputs": [],
   "source": [
    "train_dummy.drop(columns = \"TransactionID\", inplace = True)"
   ]
  },
  {
   "cell_type": "code",
   "execution_count": 22,
   "id": "environmental-quarter",
   "metadata": {
    "execution": {
     "iopub.execute_input": "2021-06-08T06:44:02.652649Z",
     "iopub.status.busy": "2021-06-08T06:44:02.651936Z",
     "iopub.status.idle": "2021-06-08T06:44:05.271313Z",
     "shell.execute_reply": "2021-06-08T06:44:05.270675Z",
     "shell.execute_reply.started": "2021-06-08T06:09:40.294831Z"
    },
    "papermill": {
     "duration": 2.656518,
     "end_time": "2021-06-08T06:44:05.271473",
     "exception": false,
     "start_time": "2021-06-08T06:44:02.614955",
     "status": "completed"
    },
    "tags": []
   },
   "outputs": [
    {
     "data": {
      "text/html": [
       "<style type='text/css'>\n",
       ".datatable table.frame { margin-bottom: 0; }\n",
       ".datatable table.frame thead { border-bottom: none; }\n",
       ".datatable table.frame tr.coltypes td {  color: #FFFFFF;  line-height: 6px;  padding: 0 0.5em;}\n",
       ".datatable .bool    { background: #DDDD99; }\n",
       ".datatable .object  { background: #565656; }\n",
       ".datatable .int     { background: #5D9E5D; }\n",
       ".datatable .float   { background: #4040CC; }\n",
       ".datatable .str     { background: #CC4040; }\n",
       ".datatable .row_index {  background: var(--jp-border-color3);  border-right: 1px solid var(--jp-border-color0);  color: var(--jp-ui-font-color3);  font-size: 9px;}\n",
       ".datatable .frame tr.coltypes .row_index {  background: var(--jp-border-color0);}\n",
       ".datatable th:nth-child(2) { padding-left: 12px; }\n",
       ".datatable .hellipsis {  color: var(--jp-cell-editor-border-color);}\n",
       ".datatable .vellipsis {  background: var(--jp-layout-color0);  color: var(--jp-cell-editor-border-color);}\n",
       ".datatable .na {  color: var(--jp-cell-editor-border-color);  font-size: 80%;}\n",
       ".datatable .footer { font-size: 9px; }\n",
       ".datatable .frame_dimensions {  background: var(--jp-border-color3);  border-top: 1px solid var(--jp-border-color0);  color: var(--jp-ui-font-color3);  display: inline-block;  opacity: 0.6;  padding: 1px 10px 1px 5px;}\n",
       "</style>\n"
      ],
      "text/plain": [
       "<IPython.core.display.HTML object>"
      ]
     },
     "metadata": {},
     "output_type": "display_data"
    }
   ],
   "source": [
    "import seaborn as sns\n",
    "import matplotlib.pyplot as plt\n",
    "import lightgbm as lgb\n",
    "from sklearn.model_selection import train_test_split"
   ]
  },
  {
   "cell_type": "code",
   "execution_count": 23,
   "id": "tight-stress",
   "metadata": {
    "execution": {
     "iopub.execute_input": "2021-06-08T06:44:05.446253Z",
     "iopub.status.busy": "2021-06-08T06:44:05.444732Z",
     "iopub.status.idle": "2021-06-08T06:46:53.166714Z",
     "shell.execute_reply": "2021-06-08T06:46:53.165739Z",
     "shell.execute_reply.started": "2021-06-08T06:09:47.568487Z"
    },
    "papermill": {
     "duration": 167.861991,
     "end_time": "2021-06-08T06:46:53.166898",
     "exception": false,
     "start_time": "2021-06-08T06:44:05.304907",
     "status": "completed"
    },
    "tags": []
   },
   "outputs": [
    {
     "name": "stdout",
     "output_type": "stream",
     "text": [
      "Training until validation scores don't improve for 50 rounds\n",
      "[50]\ttraining's auc: 0.95836\tvalid_1's auc: 0.925051\n",
      "[100]\ttraining's auc: 0.96769\tvalid_1's auc: 0.932383\n",
      "[150]\ttraining's auc: 0.974988\tvalid_1's auc: 0.938258\n",
      "[200]\ttraining's auc: 0.979859\tvalid_1's auc: 0.942381\n",
      "[250]\ttraining's auc: 0.983835\tvalid_1's auc: 0.944935\n",
      "[300]\ttraining's auc: 0.986739\tvalid_1's auc: 0.946232\n",
      "[350]\ttraining's auc: 0.989372\tvalid_1's auc: 0.948214\n",
      "[400]\ttraining's auc: 0.991288\tvalid_1's auc: 0.949622\n",
      "Did not meet early stopping. Best iteration is:\n",
      "[400]\ttraining's auc: 0.991288\tvalid_1's auc: 0.949622\n"
     ]
    }
   ],
   "source": [
    "X_train, X_valid, y_train, y_valid = train_test_split(\n",
    "    train_dummy.drop(columns='isFraud'), train_dummy['isFraud'], test_size=0.25, random_state=0)\n",
    "\n",
    "\n",
    "\n",
    "params = {'num_leaves': 260,\n",
    "          'min_child_samples': 80,\n",
    "          'objective': 'binary',\n",
    "          'max_depth': 15,\n",
    "          'learning_rate': 0.03,\n",
    "          \"boosting_type\": \"gbdt\",\n",
    "          \"subsample_freq\": 3,\n",
    "          \"subsample\": 0.9,\n",
    "          \"bagging_seed\": 11,\n",
    "          \"metric\": 'auc',\n",
    "          \"verbosity\": -1,\n",
    "          'reg_alpha': 0.3,\n",
    "          'reg_lambda': 0.3,\n",
    "          'colsample_bytree': 0.9,\n",
    "          'is_unbalance':True, # unbalanced dataset 3.5%\n",
    "\n",
    "         }\n",
    "\n",
    "d_train = lgb.Dataset(X_train, y_train)\n",
    "d_valid = lgb.Dataset(X_valid, y_valid)\n",
    "    \n",
    "bst = lgb.train(params, d_train, num_boost_round= 400, valid_sets=[d_train, d_valid], verbose_eval=50, early_stopping_rounds=50)"
   ]
  },
  {
   "cell_type": "code",
   "execution_count": 24,
   "id": "complex-layout",
   "metadata": {
    "execution": {
     "iopub.execute_input": "2021-06-08T06:46:53.245012Z",
     "iopub.status.busy": "2021-06-08T06:46:53.243806Z",
     "iopub.status.idle": "2021-06-08T06:47:00.849124Z",
     "shell.execute_reply": "2021-06-08T06:47:00.848497Z",
     "shell.execute_reply.started": "2021-06-08T06:32:53.637723Z"
    },
    "papermill": {
     "duration": 7.646655,
     "end_time": "2021-06-08T06:47:00.849281",
     "exception": false,
     "start_time": "2021-06-08T06:46:53.202626",
     "status": "completed"
    },
    "tags": []
   },
   "outputs": [],
   "source": [
    "test_dummy = pd.get_dummies(df_test, drop_first=True)\n",
    "#test_dummy.info()\n",
    "float_col = test_dummy.select_dtypes(include='float64').columns\n",
    "test_dummy[float_col] = test_dummy[float_col].astype(\"float32\")"
   ]
  },
  {
   "cell_type": "code",
   "execution_count": 25,
   "id": "contrary-absolute",
   "metadata": {
    "execution": {
     "iopub.execute_input": "2021-06-08T06:47:00.935183Z",
     "iopub.status.busy": "2021-06-08T06:47:00.934373Z",
     "iopub.status.idle": "2021-06-08T06:47:00.940211Z",
     "shell.execute_reply": "2021-06-08T06:47:00.940997Z",
     "shell.execute_reply.started": "2021-06-08T06:33:01.601030Z"
    },
    "papermill": {
     "duration": 0.056195,
     "end_time": "2021-06-08T06:47:00.941241",
     "exception": false,
     "start_time": "2021-06-08T06:47:00.885046",
     "status": "completed"
    },
    "tags": []
   },
   "outputs": [
    {
     "name": "stdout",
     "output_type": "stream",
     "text": [
      "<class 'pandas.core.frame.DataFrame'>\n",
      "Int64Index: 590538 entries, 0 to 590539\n",
      "Columns: 117 entries, isFraud to card6_debit or credit\n",
      "dtypes: float32(104), int64(3), uint8(10)\n",
      "memory usage: 257.9 MB\n"
     ]
    }
   ],
   "source": [
    "train_dummy.info()"
   ]
  },
  {
   "cell_type": "code",
   "execution_count": 26,
   "id": "velvet-prisoner",
   "metadata": {
    "execution": {
     "iopub.execute_input": "2021-06-08T06:47:01.019712Z",
     "iopub.status.busy": "2021-06-08T06:47:01.017962Z",
     "iopub.status.idle": "2021-06-08T06:47:26.772708Z",
     "shell.execute_reply": "2021-06-08T06:47:26.772134Z",
     "shell.execute_reply.started": "2021-06-08T06:33:58.836326Z"
    },
    "papermill": {
     "duration": 25.79575,
     "end_time": "2021-06-08T06:47:26.772903",
     "exception": false,
     "start_time": "2021-06-08T06:47:00.977153",
     "status": "completed"
    },
    "tags": []
   },
   "outputs": [],
   "source": [
    "y_pred = bst.predict(test_dummy,predict_disable_shape_check=True)"
   ]
  },
  {
   "cell_type": "code",
   "execution_count": 27,
   "id": "satisfactory-italian",
   "metadata": {
    "execution": {
     "iopub.execute_input": "2021-06-08T06:47:26.851891Z",
     "iopub.status.busy": "2021-06-08T06:47:26.850632Z",
     "iopub.status.idle": "2021-06-08T06:47:26.856135Z",
     "shell.execute_reply": "2021-06-08T06:47:26.855455Z",
     "shell.execute_reply.started": "2021-06-08T06:34:21.738917Z"
    },
    "papermill": {
     "duration": 0.046645,
     "end_time": "2021-06-08T06:47:26.856269",
     "exception": false,
     "start_time": "2021-06-08T06:47:26.809624",
     "status": "completed"
    },
    "tags": []
   },
   "outputs": [
    {
     "data": {
      "text/plain": [
       "array([0.02665071, 0.03591207, 0.05809389, ..., 0.06039619, 0.06039619,\n",
       "       0.01409208])"
      ]
     },
     "execution_count": 27,
     "metadata": {},
     "output_type": "execute_result"
    }
   ],
   "source": [
    "y_pred "
   ]
  },
  {
   "cell_type": "code",
   "execution_count": 28,
   "id": "original-softball",
   "metadata": {
    "execution": {
     "iopub.execute_input": "2021-06-08T06:47:26.939158Z",
     "iopub.status.busy": "2021-06-08T06:47:26.938490Z",
     "iopub.status.idle": "2021-06-08T06:47:29.335588Z",
     "shell.execute_reply": "2021-06-08T06:47:29.334824Z",
     "shell.execute_reply.started": "2021-06-08T06:36:05.774921Z"
    },
    "papermill": {
     "duration": 2.443885,
     "end_time": "2021-06-08T06:47:29.335739",
     "exception": false,
     "start_time": "2021-06-08T06:47:26.891854",
     "status": "completed"
    },
    "tags": []
   },
   "outputs": [
    {
     "data": {
      "text/html": [
       "<div>\n",
       "<style scoped>\n",
       "    .dataframe tbody tr th:only-of-type {\n",
       "        vertical-align: middle;\n",
       "    }\n",
       "\n",
       "    .dataframe tbody tr th {\n",
       "        vertical-align: top;\n",
       "    }\n",
       "\n",
       "    .dataframe thead th {\n",
       "        text-align: right;\n",
       "    }\n",
       "</style>\n",
       "<table border=\"1\" class=\"dataframe\">\n",
       "  <thead>\n",
       "    <tr style=\"text-align: right;\">\n",
       "      <th></th>\n",
       "      <th>TransactionID</th>\n",
       "      <th>isFraud</th>\n",
       "    </tr>\n",
       "  </thead>\n",
       "  <tbody>\n",
       "    <tr>\n",
       "      <th>0</th>\n",
       "      <td>3663549</td>\n",
       "      <td>0.026651</td>\n",
       "    </tr>\n",
       "    <tr>\n",
       "      <th>1</th>\n",
       "      <td>3663550</td>\n",
       "      <td>0.035912</td>\n",
       "    </tr>\n",
       "    <tr>\n",
       "      <th>2</th>\n",
       "      <td>3663551</td>\n",
       "      <td>0.058094</td>\n",
       "    </tr>\n",
       "    <tr>\n",
       "      <th>3</th>\n",
       "      <td>3663552</td>\n",
       "      <td>0.042093</td>\n",
       "    </tr>\n",
       "    <tr>\n",
       "      <th>4</th>\n",
       "      <td>3663553</td>\n",
       "      <td>0.061020</td>\n",
       "    </tr>\n",
       "  </tbody>\n",
       "</table>\n",
       "</div>"
      ],
      "text/plain": [
       "   TransactionID   isFraud\n",
       "0        3663549  0.026651\n",
       "1        3663550  0.035912\n",
       "2        3663551  0.058094\n",
       "3        3663552  0.042093\n",
       "4        3663553  0.061020"
      ]
     },
     "execution_count": 28,
     "metadata": {},
     "output_type": "execute_result"
    }
   ],
   "source": [
    "submission = pd.read_csv('../input/ieee-fraud-detection/sample_submission.csv')\n",
    "submission['isFraud'] = y_pred\n",
    "submission.to_csv('submission.csv',index=False)\n",
    "submission.head()"
   ]
  },
  {
   "cell_type": "code",
   "execution_count": null,
   "id": "southern-thailand",
   "metadata": {
    "papermill": {
     "duration": 0.036029,
     "end_time": "2021-06-08T06:47:29.409365",
     "exception": false,
     "start_time": "2021-06-08T06:47:29.373336",
     "status": "completed"
    },
    "tags": []
   },
   "outputs": [],
   "source": []
  },
  {
   "cell_type": "code",
   "execution_count": null,
   "id": "fitted-parcel",
   "metadata": {
    "papermill": {
     "duration": 0.036164,
     "end_time": "2021-06-08T06:47:29.481341",
     "exception": false,
     "start_time": "2021-06-08T06:47:29.445177",
     "status": "completed"
    },
    "tags": []
   },
   "outputs": [],
   "source": []
  },
  {
   "cell_type": "code",
   "execution_count": null,
   "id": "amazing-textbook",
   "metadata": {
    "papermill": {
     "duration": 0.035734,
     "end_time": "2021-06-08T06:47:29.553611",
     "exception": false,
     "start_time": "2021-06-08T06:47:29.517877",
     "status": "completed"
    },
    "tags": []
   },
   "outputs": [],
   "source": []
  },
  {
   "cell_type": "code",
   "execution_count": null,
   "id": "personalized-blood",
   "metadata": {
    "papermill": {
     "duration": 0.035924,
     "end_time": "2021-06-08T06:47:29.625875",
     "exception": false,
     "start_time": "2021-06-08T06:47:29.589951",
     "status": "completed"
    },
    "tags": []
   },
   "outputs": [],
   "source": []
  },
  {
   "cell_type": "code",
   "execution_count": null,
   "id": "reliable-input",
   "metadata": {
    "papermill": {
     "duration": 0.035659,
     "end_time": "2021-06-08T06:47:29.698054",
     "exception": false,
     "start_time": "2021-06-08T06:47:29.662395",
     "status": "completed"
    },
    "tags": []
   },
   "outputs": [],
   "source": []
  }
 ],
 "metadata": {
  "kernelspec": {
   "display_name": "Python 3",
   "language": "python",
   "name": "python3"
  },
  "language_info": {
   "codemirror_mode": {
    "name": "ipython",
    "version": 3
   },
   "file_extension": ".py",
   "mimetype": "text/x-python",
   "name": "python",
   "nbconvert_exporter": "python",
   "pygments_lexer": "ipython3",
   "version": "3.7.10"
  },
  "papermill": {
   "default_parameters": {},
   "duration": 452.984058,
   "end_time": "2021-06-08T06:47:31.307551",
   "environment_variables": {},
   "exception": null,
   "input_path": "__notebook__.ipynb",
   "output_path": "__notebook__.ipynb",
   "parameters": {},
   "start_time": "2021-06-08T06:39:58.323493",
   "version": "2.3.3"
  }
 },
 "nbformat": 4,
 "nbformat_minor": 5
}
